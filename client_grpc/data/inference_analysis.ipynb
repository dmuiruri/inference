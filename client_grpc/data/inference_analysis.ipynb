{
 "cells": [
  {
   "cell_type": "code",
   "execution_count": 1,
   "id": "83c22bc5",
   "metadata": {},
   "outputs": [],
   "source": [
    "import pandas as pd\n",
    "import numpy as np\n",
    "import seaborn as sns\n",
    "import matplotlib.pyplot as plt\n",
    "\n",
    "import requests\n",
    "\n",
    "import mnist_input_data"
   ]
  },
  {
   "cell_type": "code",
   "execution_count": 2,
   "id": "526c1446",
   "metadata": {},
   "outputs": [
    {
     "name": "stdout",
     "output_type": "stream",
     "text": [
      "/home/ubuntu/infer/client_grpc/data\r\n"
     ]
    }
   ],
   "source": [
    "!pwd"
   ]
  },
  {
   "cell_type": "code",
   "execution_count": 4,
   "id": "b8629795",
   "metadata": {},
   "outputs": [],
   "source": [
    "reqs = pd.read_csv('response_times.csv', index_col='Unnamed: 0')"
   ]
  },
  {
   "cell_type": "code",
   "execution_count": 5,
   "id": "cbc44bb9",
   "metadata": {},
   "outputs": [
    {
     "data": {
      "text/html": [
       "<div>\n",
       "<style scoped>\n",
       "    .dataframe tbody tr th:only-of-type {\n",
       "        vertical-align: middle;\n",
       "    }\n",
       "\n",
       "    .dataframe tbody tr th {\n",
       "        vertical-align: top;\n",
       "    }\n",
       "\n",
       "    .dataframe thead th {\n",
       "        text-align: right;\n",
       "    }\n",
       "</style>\n",
       "<table border=\"1\" class=\"dataframe\">\n",
       "  <thead>\n",
       "    <tr style=\"text-align: right;\">\n",
       "      <th></th>\n",
       "      <th>100</th>\n",
       "      <th>200</th>\n",
       "      <th>300</th>\n",
       "      <th>500</th>\n",
       "      <th>1000</th>\n",
       "      <th>1500</th>\n",
       "      <th>2000</th>\n",
       "      <th>2500</th>\n",
       "      <th>3000</th>\n",
       "      <th>3500</th>\n",
       "      <th>4000</th>\n",
       "    </tr>\n",
       "  </thead>\n",
       "  <tbody>\n",
       "    <tr>\n",
       "      <th>count</th>\n",
       "      <td>10000.000000</td>\n",
       "      <td>10000.000000</td>\n",
       "      <td>10000.000000</td>\n",
       "      <td>10000.000000</td>\n",
       "      <td>10000.000000</td>\n",
       "      <td>10000.000000</td>\n",
       "      <td>10000.000000</td>\n",
       "      <td>9670.000000</td>\n",
       "      <td>9898.000000</td>\n",
       "      <td>9821.000000</td>\n",
       "      <td>9841.000000</td>\n",
       "    </tr>\n",
       "    <tr>\n",
       "      <th>mean</th>\n",
       "      <td>0.063364</td>\n",
       "      <td>0.130143</td>\n",
       "      <td>0.207912</td>\n",
       "      <td>0.351773</td>\n",
       "      <td>0.608542</td>\n",
       "      <td>0.822888</td>\n",
       "      <td>1.079696</td>\n",
       "      <td>1.141415</td>\n",
       "      <td>1.443279</td>\n",
       "      <td>1.462911</td>\n",
       "      <td>1.814589</td>\n",
       "    </tr>\n",
       "    <tr>\n",
       "      <th>std</th>\n",
       "      <td>0.009632</td>\n",
       "      <td>0.019216</td>\n",
       "      <td>0.029705</td>\n",
       "      <td>0.065758</td>\n",
       "      <td>0.165676</td>\n",
       "      <td>0.265517</td>\n",
       "      <td>0.447109</td>\n",
       "      <td>0.522416</td>\n",
       "      <td>0.614255</td>\n",
       "      <td>0.591960</td>\n",
       "      <td>0.824004</td>\n",
       "    </tr>\n",
       "    <tr>\n",
       "      <th>min</th>\n",
       "      <td>0.005794</td>\n",
       "      <td>0.002644</td>\n",
       "      <td>0.002575</td>\n",
       "      <td>0.002985</td>\n",
       "      <td>0.003524</td>\n",
       "      <td>0.003644</td>\n",
       "      <td>0.003014</td>\n",
       "      <td>0.003432</td>\n",
       "      <td>0.004558</td>\n",
       "      <td>0.002766</td>\n",
       "      <td>0.004608</td>\n",
       "    </tr>\n",
       "    <tr>\n",
       "      <th>25%</th>\n",
       "      <td>0.057711</td>\n",
       "      <td>0.122180</td>\n",
       "      <td>0.200169</td>\n",
       "      <td>0.337192</td>\n",
       "      <td>0.604381</td>\n",
       "      <td>0.675307</td>\n",
       "      <td>0.797982</td>\n",
       "      <td>0.810528</td>\n",
       "      <td>0.953081</td>\n",
       "      <td>1.059483</td>\n",
       "      <td>1.241902</td>\n",
       "    </tr>\n",
       "    <tr>\n",
       "      <th>50%</th>\n",
       "      <td>0.063088</td>\n",
       "      <td>0.131621</td>\n",
       "      <td>0.209478</td>\n",
       "      <td>0.365734</td>\n",
       "      <td>0.679672</td>\n",
       "      <td>0.971215</td>\n",
       "      <td>1.170154</td>\n",
       "      <td>1.374873</td>\n",
       "      <td>1.661655</td>\n",
       "      <td>1.642663</td>\n",
       "      <td>1.841444</td>\n",
       "    </tr>\n",
       "    <tr>\n",
       "      <th>75%</th>\n",
       "      <td>0.069281</td>\n",
       "      <td>0.141011</td>\n",
       "      <td>0.220993</td>\n",
       "      <td>0.392560</td>\n",
       "      <td>0.700816</td>\n",
       "      <td>1.000001</td>\n",
       "      <td>1.485968</td>\n",
       "      <td>1.573849</td>\n",
       "      <td>1.974849</td>\n",
       "      <td>1.962244</td>\n",
       "      <td>2.588953</td>\n",
       "    </tr>\n",
       "    <tr>\n",
       "      <th>max</th>\n",
       "      <td>0.142926</td>\n",
       "      <td>0.241925</td>\n",
       "      <td>0.388216</td>\n",
       "      <td>0.804553</td>\n",
       "      <td>0.964128</td>\n",
       "      <td>1.061612</td>\n",
       "      <td>2.171691</td>\n",
       "      <td>1.720475</td>\n",
       "      <td>2.687686</td>\n",
       "      <td>2.191722</td>\n",
       "      <td>3.518893</td>\n",
       "    </tr>\n",
       "  </tbody>\n",
       "</table>\n",
       "</div>"
      ],
      "text/plain": [
       "                100           200           300           500          1000  \\\n",
       "count  10000.000000  10000.000000  10000.000000  10000.000000  10000.000000   \n",
       "mean       0.063364      0.130143      0.207912      0.351773      0.608542   \n",
       "std        0.009632      0.019216      0.029705      0.065758      0.165676   \n",
       "min        0.005794      0.002644      0.002575      0.002985      0.003524   \n",
       "25%        0.057711      0.122180      0.200169      0.337192      0.604381   \n",
       "50%        0.063088      0.131621      0.209478      0.365734      0.679672   \n",
       "75%        0.069281      0.141011      0.220993      0.392560      0.700816   \n",
       "max        0.142926      0.241925      0.388216      0.804553      0.964128   \n",
       "\n",
       "               1500          2000         2500         3000         3500  \\\n",
       "count  10000.000000  10000.000000  9670.000000  9898.000000  9821.000000   \n",
       "mean       0.822888      1.079696     1.141415     1.443279     1.462911   \n",
       "std        0.265517      0.447109     0.522416     0.614255     0.591960   \n",
       "min        0.003644      0.003014     0.003432     0.004558     0.002766   \n",
       "25%        0.675307      0.797982     0.810528     0.953081     1.059483   \n",
       "50%        0.971215      1.170154     1.374873     1.661655     1.642663   \n",
       "75%        1.000001      1.485968     1.573849     1.974849     1.962244   \n",
       "max        1.061612      2.171691     1.720475     2.687686     2.191722   \n",
       "\n",
       "              4000  \n",
       "count  9841.000000  \n",
       "mean      1.814589  \n",
       "std       0.824004  \n",
       "min       0.004608  \n",
       "25%       1.241902  \n",
       "50%       1.841444  \n",
       "75%       2.588953  \n",
       "max       3.518893  "
      ]
     },
     "execution_count": 5,
     "metadata": {},
     "output_type": "execute_result"
    }
   ],
   "source": [
    "reqs.describe()"
   ]
  },
  {
   "cell_type": "code",
   "execution_count": 6,
   "id": "93ded2e8",
   "metadata": {},
   "outputs": [
    {
     "data": {
      "image/png": "[encoded data removed]",
      "text/plain": [
       "<Figure size 1080x360 with 2 Axes>"
      ]
     },
     "metadata": {
      "needs_background": "light"
     },
     "output_type": "display_data"
    }
   ],
   "source": [
    "fig, ax = plt.subplots(1, 2, figsize=(15,5))\n",
    "_ = sns.histplot(data=reqs[['100', '200', '300']], kde=True, ax=ax[0])\n",
    "_ = sns.histplot(data=reqs[['1000', '1500', '4000']], kde=True, ax=ax[1])\n"
   ]
  },
  {
   "cell_type": "code",
   "execution_count": 7,
   "id": "54d8da76",
   "metadata": {},
   "outputs": [
    {
     "data": {
      "text/html": [
       "<div>\n",
       "<style scoped>\n",
       "    .dataframe tbody tr th:only-of-type {\n",
       "        vertical-align: middle;\n",
       "    }\n",
       "\n",
       "    .dataframe tbody tr th {\n",
       "        vertical-align: top;\n",
       "    }\n",
       "\n",
       "    .dataframe thead th {\n",
       "        text-align: right;\n",
       "    }\n",
       "</style>\n",
       "<table border=\"1\" class=\"dataframe\">\n",
       "  <thead>\n",
       "    <tr style=\"text-align: right;\">\n",
       "      <th></th>\n",
       "      <th>100</th>\n",
       "      <th>200</th>\n",
       "      <th>300</th>\n",
       "      <th>500</th>\n",
       "      <th>1000</th>\n",
       "      <th>1500</th>\n",
       "      <th>2000</th>\n",
       "      <th>2500</th>\n",
       "      <th>3000</th>\n",
       "      <th>3500</th>\n",
       "      <th>4000</th>\n",
       "    </tr>\n",
       "  </thead>\n",
       "  <tbody>\n",
       "    <tr>\n",
       "      <th>count</th>\n",
       "      <td>10000.000000</td>\n",
       "      <td>10000.000000</td>\n",
       "      <td>10000.000000</td>\n",
       "      <td>10000.000000</td>\n",
       "      <td>10000.000000</td>\n",
       "      <td>10000.000000</td>\n",
       "      <td>10000.000000</td>\n",
       "      <td>10000.000000</td>\n",
       "      <td>9852.000000</td>\n",
       "      <td>9667.000000</td>\n",
       "      <td>9606.000000</td>\n",
       "    </tr>\n",
       "    <tr>\n",
       "      <th>mean</th>\n",
       "      <td>0.060595</td>\n",
       "      <td>0.130732</td>\n",
       "      <td>0.178714</td>\n",
       "      <td>0.303443</td>\n",
       "      <td>0.615007</td>\n",
       "      <td>0.812973</td>\n",
       "      <td>0.992616</td>\n",
       "      <td>1.267018</td>\n",
       "      <td>1.474396</td>\n",
       "      <td>1.585047</td>\n",
       "      <td>1.438284</td>\n",
       "    </tr>\n",
       "    <tr>\n",
       "      <th>std</th>\n",
       "      <td>0.008648</td>\n",
       "      <td>0.017395</td>\n",
       "      <td>0.026102</td>\n",
       "      <td>0.065380</td>\n",
       "      <td>0.175589</td>\n",
       "      <td>0.277645</td>\n",
       "      <td>0.381082</td>\n",
       "      <td>0.582938</td>\n",
       "      <td>0.611192</td>\n",
       "      <td>0.703136</td>\n",
       "      <td>0.574487</td>\n",
       "    </tr>\n",
       "    <tr>\n",
       "      <th>min</th>\n",
       "      <td>0.005957</td>\n",
       "      <td>0.002767</td>\n",
       "      <td>0.002753</td>\n",
       "      <td>0.004079</td>\n",
       "      <td>0.003102</td>\n",
       "      <td>0.003743</td>\n",
       "      <td>0.003223</td>\n",
       "      <td>0.002975</td>\n",
       "      <td>0.003865</td>\n",
       "      <td>0.008264</td>\n",
       "      <td>0.002266</td>\n",
       "    </tr>\n",
       "    <tr>\n",
       "      <th>25%</th>\n",
       "      <td>0.054345</td>\n",
       "      <td>0.123485</td>\n",
       "      <td>0.172347</td>\n",
       "      <td>0.302909</td>\n",
       "      <td>0.572539</td>\n",
       "      <td>0.645520</td>\n",
       "      <td>0.699598</td>\n",
       "      <td>0.855450</td>\n",
       "      <td>0.957718</td>\n",
       "      <td>1.005741</td>\n",
       "      <td>1.138226</td>\n",
       "    </tr>\n",
       "    <tr>\n",
       "      <th>50%</th>\n",
       "      <td>0.057965</td>\n",
       "      <td>0.129995</td>\n",
       "      <td>0.179027</td>\n",
       "      <td>0.319473</td>\n",
       "      <td>0.670833</td>\n",
       "      <td>0.923044</td>\n",
       "      <td>1.198304</td>\n",
       "      <td>1.434318</td>\n",
       "      <td>1.661300</td>\n",
       "      <td>1.808804</td>\n",
       "      <td>1.557183</td>\n",
       "    </tr>\n",
       "    <tr>\n",
       "      <th>75%</th>\n",
       "      <td>0.066957</td>\n",
       "      <td>0.140634</td>\n",
       "      <td>0.194934</td>\n",
       "      <td>0.337792</td>\n",
       "      <td>0.728173</td>\n",
       "      <td>1.024705</td>\n",
       "      <td>1.294397</td>\n",
       "      <td>1.821969</td>\n",
       "      <td>2.048677</td>\n",
       "      <td>2.172769</td>\n",
       "      <td>1.939446</td>\n",
       "    </tr>\n",
       "    <tr>\n",
       "      <th>max</th>\n",
       "      <td>0.114348</td>\n",
       "      <td>0.252896</td>\n",
       "      <td>0.350669</td>\n",
       "      <td>0.648842</td>\n",
       "      <td>1.074313</td>\n",
       "      <td>1.166476</td>\n",
       "      <td>1.356335</td>\n",
       "      <td>2.005320</td>\n",
       "      <td>2.629712</td>\n",
       "      <td>2.537487</td>\n",
       "      <td>2.316876</td>\n",
       "    </tr>\n",
       "  </tbody>\n",
       "</table>\n",
       "</div>"
      ],
      "text/plain": [
       "                100           200           300           500          1000  \\\n",
       "count  10000.000000  10000.000000  10000.000000  10000.000000  10000.000000   \n",
       "mean       0.060595      0.130732      0.178714      0.303443      0.615007   \n",
       "std        0.008648      0.017395      0.026102      0.065380      0.175589   \n",
       "min        0.005957      0.002767      0.002753      0.004079      0.003102   \n",
       "25%        0.054345      0.123485      0.172347      0.302909      0.572539   \n",
       "50%        0.057965      0.129995      0.179027      0.319473      0.670833   \n",
       "75%        0.066957      0.140634      0.194934      0.337792      0.728173   \n",
       "max        0.114348      0.252896      0.350669      0.648842      1.074313   \n",
       "\n",
       "               1500          2000          2500         3000         3500  \\\n",
       "count  10000.000000  10000.000000  10000.000000  9852.000000  9667.000000   \n",
       "mean       0.812973      0.992616      1.267018     1.474396     1.585047   \n",
       "std        0.277645      0.381082      0.582938     0.611192     0.703136   \n",
       "min        0.003743      0.003223      0.002975     0.003865     0.008264   \n",
       "25%        0.645520      0.699598      0.855450     0.957718     1.005741   \n",
       "50%        0.923044      1.198304      1.434318     1.661300     1.808804   \n",
       "75%        1.024705      1.294397      1.821969     2.048677     2.172769   \n",
       "max        1.166476      1.356335      2.005320     2.629712     2.537487   \n",
       "\n",
       "              4000  \n",
       "count  9606.000000  \n",
       "mean      1.438284  \n",
       "std       0.574487  \n",
       "min       0.002266  \n",
       "25%       1.138226  \n",
       "50%       1.557183  \n",
       "75%       1.939446  \n",
       "max       2.316876  "
      ]
     },
     "execution_count": 7,
     "metadata": {},
     "output_type": "execute_result"
    }
   ],
   "source": [
    "# Test another run\n",
    "reqs = pd.read_csv('response_times.csv', index_col='Unnamed: 0')\n",
    "reqs.describe()"
   ]
  },
  {
   "cell_type": "code",
   "execution_count": 18,
   "id": "3db6e01f",
   "metadata": {},
   "outputs": [],
   "source": [
    "host = '128.214.252.11'\n",
    "port = '8501'\n",
    "batch_size = 1\n",
    "image_path = \"./mnist_image.pkl\"\n",
    "model_name = 'mnist'\n",
    "signature_name = 'predict_images'\n"
   ]
  },
  {
   "cell_type": "code",
   "execution_count": 7,
   "id": "084a84a3",
   "metadata": {},
   "outputs": [],
   "source": [
    "work_dir='/tmp'"
   ]
  },
  {
   "cell_type": "code",
   "execution_count": 8,
   "id": "be277167",
   "metadata": {},
   "outputs": [
    {
     "name": "stdout",
     "output_type": "stream",
     "text": [
      "Extracting /tmp/train-images-idx3-ubyte.gz\n",
      "Extracting /tmp/train-labels-idx1-ubyte.gz\n",
      "Extracting /tmp/t10k-images-idx3-ubyte.gz\n",
      "Extracting /tmp/t10k-labels-idx1-ubyte.gz\n"
     ]
    }
   ],
   "source": [
    "test_data_set = mnist_input_data.read_data_sets(work_dir).test"
   ]
  },
  {
   "cell_type": "code",
   "execution_count": 9,
   "id": "00e70bec",
   "metadata": {},
   "outputs": [
    {
     "data": {
      "text/plain": [
       "(1, 784)"
      ]
     },
     "execution_count": 9,
     "metadata": {},
     "output_type": "execute_result"
    }
   ],
   "source": [
    "img, label = test_data_set.next_batch(1)\n",
    "img.shape"
   ]
  },
  {
   "cell_type": "code",
   "execution_count": 10,
   "id": "173cdc4e",
   "metadata": {},
   "outputs": [],
   "source": [
    "# Fetch some images for inference\n",
    "\n",
    "batch_size = 1\n",
    "batch = np.repeat(img, batch_size, axis=0).tolist()"
   ]
  },
  {
   "cell_type": "code",
   "execution_count": 19,
   "id": "3e313ff5",
   "metadata": {},
   "outputs": [],
   "source": [
    "# When creating the json object, the signature name field is important otherwise the request does not succeed\n",
    "\n",
    "json_data = {\n",
    "    \"signature_name\": 'predict_images',\n",
    "    \"instances\": batch\n",
    "}"
   ]
  },
  {
   "cell_type": "code",
   "execution_count": 24,
   "id": "ee0ac40a",
   "metadata": {
    "scrolled": false
   },
   "outputs": [
    {
     "name": "stdout",
     "output_type": "stream",
     "text": [
      "200\n",
      "{'predictions': [[2.04608477e-05, 1.72721548e-09, 7.74099099e-05, 0.00364778261, 1.25222937e-06, 2.27522032e-05, 1.14668977e-08, 0.99597472, 3.68833389e-05, 0.000218785644]]}\n"
     ]
    },
    {
     "data": {
      "text/plain": [
       "7"
      ]
     },
     "execution_count": 24,
     "metadata": {},
     "output_type": "execute_result"
    }
   ],
   "source": [
    "# Works when tested with local host but something seems to block the use of IP address\n",
    "response_prediction = requests.post('http://128.214.252.11:8501/v1/models/mnist:predict', json=json_data)\n",
    "print(response_prediction.status_code)\n",
    "print(response_prediction.json())\n",
    "# Predict returns the probabilities of the classes 0-9, so we need to pick the highest probability\n",
    "np.argmax(response_prediction.json()['predictions'][0])"
   ]
  },
  {
   "cell_type": "code",
   "execution_count": 22,
   "id": "ece275db",
   "metadata": {},
   "outputs": [
    {
     "data": {
      "text/plain": [
       "{'predictions': [[2.04608477e-05,\n",
       "   1.72721548e-09,\n",
       "   7.74099099e-05,\n",
       "   0.00364778261,\n",
       "   1.25222937e-06,\n",
       "   2.27522032e-05,\n",
       "   1.14668977e-08,\n",
       "   0.99597472,\n",
       "   3.68833389e-05,\n",
       "   0.000218785644]]}"
      ]
     },
     "execution_count": 22,
     "metadata": {},
     "output_type": "execute_result"
    }
   ],
   "source": [
    "response_prediction."
   ]
  },
  {
   "cell_type": "code",
   "execution_count": null,
   "id": "f61ad525",
   "metadata": {},
   "outputs": [],
   "source": []
  }
 ],
 "metadata": {
  "kernelspec": {
   "display_name": "Python 3",
   "language": "python",
   "name": "python3"
  },
  "language_info": {
   "codemirror_mode": {
    "name": "ipython",
    "version": 3
   },
   "file_extension": ".py",
   "mimetype": "text/x-python",
   "name": "python",
   "nbconvert_exporter": "python",
   "pygments_lexer": "ipython3",
   "version": "3.8.10"
  }
 },
 "nbformat": 4,
 "nbformat_minor": 5
}
