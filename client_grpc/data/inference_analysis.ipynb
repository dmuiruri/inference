{
 "cells": [
  {
   "cell_type": "code",
   "execution_count": 1,
   "id": "83c22bc5",
   "metadata": {},
   "outputs": [],
   "source": [
    "import pandas as pd\n",
    "import numpy as np\n",
    "import seaborn as sns\n",
    "import matplotlib.pyplot as plt\n",
    "\n",
    "import requests\n",
    "\n",
    "import mnist_input_data"
   ]
  },
  {
   "cell_type": "code",
   "execution_count": 2,
   "id": "526c1446",
   "metadata": {},
   "outputs": [
    {
     "name": "stdout",
     "output_type": "stream",
     "text": [
      "/home/ubuntu/infer/client_grpc/data\r\n"
     ]
    }
   ],
   "source": [
    "!pwd"
   ]
  },
  {
   "cell_type": "code",
   "execution_count": 4,
   "id": "b8629795",
   "metadata": {},
   "outputs": [],
   "source": [
    "reqs = pd.read_csv('response_times.csv', index_col='Unnamed: 0')"
   ]
  },
  {
   "cell_type": "code",
   "execution_count": 5,
   "id": "cbc44bb9",
   "metadata": {},
   "outputs": [
    {
     "data": {
      "text/html": [
       "<div>\n",
       "<style scoped>\n",
       "    .dataframe tbody tr th:only-of-type {\n",
       "        vertical-align: middle;\n",
       "    }\n",
       "\n",
       "    .dataframe tbody tr th {\n",
       "        vertical-align: top;\n",
       "    }\n",
       "\n",
       "    .dataframe thead th {\n",
       "        text-align: right;\n",
       "    }\n",
       "</style>\n",
       "<table border=\"1\" class=\"dataframe\">\n",
       "  <thead>\n",
       "    <tr style=\"text-align: right;\">\n",
       "      <th></th>\n",
       "      <th>100</th>\n",
       "      <th>200</th>\n",
       "      <th>300</th>\n",
       "      <th>500</th>\n",
       "      <th>1000</th>\n",
       "      <th>1500</th>\n",
       "      <th>2000</th>\n",
       "      <th>2500</th>\n",
       "      <th>3000</th>\n",
       "      <th>3500</th>\n",
       "      <th>4000</th>\n",
       "    </tr>\n",
       "  </thead>\n",
       "  <tbody>\n",
       "    <tr>\n",
       "      <th>count</th>\n",
       "      <td>10000.000000</td>\n",
       "      <td>10000.000000</td>\n",
       "      <td>10000.000000</td>\n",
       "      <td>10000.000000</td>\n",
       "      <td>10000.000000</td>\n",
       "      <td>10000.000000</td>\n",
       "      <td>10000.000000</td>\n",
       "      <td>9670.000000</td>\n",
       "      <td>9898.000000</td>\n",
       "      <td>9821.000000</td>\n",
       "      <td>9841.000000</td>\n",
       "    </tr>\n",
       "    <tr>\n",
       "      <th>mean</th>\n",
       "      <td>0.063364</td>\n",
       "      <td>0.130143</td>\n",
       "      <td>0.207912</td>\n",
       "      <td>0.351773</td>\n",
       "      <td>0.608542</td>\n",
       "      <td>0.822888</td>\n",
       "      <td>1.079696</td>\n",
       "      <td>1.141415</td>\n",
       "      <td>1.443279</td>\n",
       "      <td>1.462911</td>\n",
       "      <td>1.814589</td>\n",
       "    </tr>\n",
       "    <tr>\n",
       "      <th>std</th>\n",
       "      <td>0.009632</td>\n",
       "      <td>0.019216</td>\n",
       "      <td>0.029705</td>\n",
       "      <td>0.065758</td>\n",
       "      <td>0.165676</td>\n",
       "      <td>0.265517</td>\n",
       "      <td>0.447109</td>\n",
       "      <td>0.522416</td>\n",
       "      <td>0.614255</td>\n",
       "      <td>0.591960</td>\n",
       "      <td>0.824004</td>\n",
       "    </tr>\n",
       "    <tr>\n",
       "      <th>min</th>\n",
       "      <td>0.005794</td>\n",
       "      <td>0.002644</td>\n",
       "      <td>0.002575</td>\n",
       "      <td>0.002985</td>\n",
       "      <td>0.003524</td>\n",
       "      <td>0.003644</td>\n",
       "      <td>0.003014</td>\n",
       "      <td>0.003432</td>\n",
       "      <td>0.004558</td>\n",
       "      <td>0.002766</td>\n",
       "      <td>0.004608</td>\n",
       "    </tr>\n",
       "    <tr>\n",
       "      <th>25%</th>\n",
       "      <td>0.057711</td>\n",
       "      <td>0.122180</td>\n",
       "      <td>0.200169</td>\n",
       "      <td>0.337192</td>\n",
       "      <td>0.604381</td>\n",
       "      <td>0.675307</td>\n",
       "      <td>0.797982</td>\n",
       "      <td>0.810528</td>\n",
       "      <td>0.953081</td>\n",
       "      <td>1.059483</td>\n",
       "      <td>1.241902</td>\n",
       "    </tr>\n",
       "    <tr>\n",
       "      <th>50%</th>\n",
       "      <td>0.063088</td>\n",
       "      <td>0.131621</td>\n",
       "      <td>0.209478</td>\n",
       "      <td>0.365734</td>\n",
       "      <td>0.679672</td>\n",
       "      <td>0.971215</td>\n",
       "      <td>1.170154</td>\n",
       "      <td>1.374873</td>\n",
       "      <td>1.661655</td>\n",
       "      <td>1.642663</td>\n",
       "      <td>1.841444</td>\n",
       "    </tr>\n",
       "    <tr>\n",
       "      <th>75%</th>\n",
       "      <td>0.069281</td>\n",
       "      <td>0.141011</td>\n",
       "      <td>0.220993</td>\n",
       "      <td>0.392560</td>\n",
       "      <td>0.700816</td>\n",
       "      <td>1.000001</td>\n",
       "      <td>1.485968</td>\n",
       "      <td>1.573849</td>\n",
       "      <td>1.974849</td>\n",
       "      <td>1.962244</td>\n",
       "      <td>2.588953</td>\n",
       "    </tr>\n",
       "    <tr>\n",
       "      <th>max</th>\n",
       "      <td>0.142926</td>\n",
       "      <td>0.241925</td>\n",
       "      <td>0.388216</td>\n",
       "      <td>0.804553</td>\n",
       "      <td>0.964128</td>\n",
       "      <td>1.061612</td>\n",
       "      <td>2.171691</td>\n",
       "      <td>1.720475</td>\n",
       "      <td>2.687686</td>\n",
       "      <td>2.191722</td>\n",
       "      <td>3.518893</td>\n",
       "    </tr>\n",
       "  </tbody>\n",
       "</table>\n",
       "</div>"
      ],
      "text/plain": [
       "                100           200           300           500          1000  \\\n",
       "count  10000.000000  10000.000000  10000.000000  10000.000000  10000.000000   \n",
       "mean       0.063364      0.130143      0.207912      0.351773      0.608542   \n",
       "std        0.009632      0.019216      0.029705      0.065758      0.165676   \n",
       "min        0.005794      0.002644      0.002575      0.002985      0.003524   \n",
       "25%        0.057711      0.122180      0.200169      0.337192      0.604381   \n",
       "50%        0.063088      0.131621      0.209478      0.365734      0.679672   \n",
       "75%        0.069281      0.141011      0.220993      0.392560      0.700816   \n",
       "max        0.142926      0.241925      0.388216      0.804553      0.964128   \n",
       "\n",
       "               1500          2000         2500         3000         3500  \\\n",
       "count  10000.000000  10000.000000  9670.000000  9898.000000  9821.000000   \n",
       "mean       0.822888      1.079696     1.141415     1.443279     1.462911   \n",
       "std        0.265517      0.447109     0.522416     0.614255     0.591960   \n",
       "min        0.003644      0.003014     0.003432     0.004558     0.002766   \n",
       "25%        0.675307      0.797982     0.810528     0.953081     1.059483   \n",
       "50%        0.971215      1.170154     1.374873     1.661655     1.642663   \n",
       "75%        1.000001      1.485968     1.573849     1.974849     1.962244   \n",
       "max        1.061612      2.171691     1.720475     2.687686     2.191722   \n",
       "\n",
       "              4000  \n",
       "count  9841.000000  \n",
       "mean      1.814589  \n",
       "std       0.824004  \n",
       "min       0.004608  \n",
       "25%       1.241902  \n",
       "50%       1.841444  \n",
       "75%       2.588953  \n",
       "max       3.518893  "
      ]
     },
     "execution_count": 5,
     "metadata": {},
     "output_type": "execute_result"
    }
   ],
   "source": [
    "reqs.describe()"
   ]
  },
  {
   "cell_type": "code",
   "execution_count": 6,
   "id": "93ded2e8",
   "metadata": {},
   "outputs": [
    {
     "data": {
      "image/png": "[encoded data removed]",
      "text/plain": [
       "<Figure size 1080x360 with 2 Axes>"
      ]
     },
     "metadata": {
      "needs_background": "light"
     },
     "output_type": "display_data"
    }
   ],
   "source": [
    "fig, ax = plt.subplots(1, 2, figsize=(15,5))\n",
    "_ = sns.histplot(data=reqs[['100', '200', '300']], kde=True, ax=ax[0])\n",
    "_ = sns.histplot(data=reqs[['1000', '1500', '4000']], kde=True, ax=ax[1])\n"
   ]
  },
  {
   "cell_type": "code",
   "execution_count": 7,
   "id": "54d8da76",
   "metadata": {},
   "outputs": [
    {
     "data": {
      "text/html": [
       "<div>\n",
       "<style scoped>\n",
       "    .dataframe tbody tr th:only-of-type {\n",
       "        vertical-align: middle;\n",
       "    }\n",
       "\n",
       "    .dataframe tbody tr th {\n",
       "        vertical-align: top;\n",
       "    }\n",
       "\n",
       "    .dataframe thead th {\n",
       "        text-align: right;\n",
       "    }\n",
       "</style>\n",
       "<table border=\"1\" class=\"dataframe\">\n",
       "  <thead>\n",
       "    <tr style=\"text-align: right;\">\n",
       "      <th></th>\n",
       "      <th>100</th>\n",
       "      <th>200</th>\n",
       "      <th>300</th>\n",
       "      <th>500</th>\n",
       "      <th>1000</th>\n",
       "      <th>1500</th>\n",
       "      <th>2000</th>\n",
       "      <th>2500</th>\n",
       "      <th>3000</th>\n",
       "      <th>3500</th>\n",
       "      <th>4000</th>\n",
       "    </tr>\n",
       "  </thead>\n",
       "  <tbody>\n",
       "    <tr>\n",
       "      <th>count</th>\n",
       "      <td>10000.000000</td>\n",
       "      <td>10000.000000</td>\n",
       "      <td>10000.000000</td>\n",
       "      <td>10000.000000</td>\n",
       "      <td>10000.000000</td>\n",
       "      <td>10000.000000</td>\n",
       "      <td>10000.000000</td>\n",
       "      <td>10000.000000</td>\n",
       "      <td>9852.000000</td>\n",
       "      <td>9667.000000</td>\n",
       "      <td>9606.000000</td>\n",
       "    </tr>\n",
       "    <tr>\n",
       "      <th>mean</th>\n",
       "      <td>0.060595</td>\n",
       "      <td>0.130732</td>\n",
       "      <td>0.178714</td>\n",
       "      <td>0.303443</td>\n",
       "      <td>0.615007</td>\n",
       "      <td>0.812973</td>\n",
       "      <td>0.992616</td>\n",
       "      <td>1.267018</td>\n",
       "      <td>1.474396</td>\n",
       "      <td>1.585047</td>\n",
       "      <td>1.438284</td>\n",
       "    </tr>\n",
       "    <tr>\n",
       "      <th>std</th>\n",
       "      <td>0.008648</td>\n",
       "      <td>0.017395</td>\n",
       "      <td>0.026102</td>\n",
       "      <td>0.065380</td>\n",
       "      <td>0.175589</td>\n",
       "      <td>0.277645</td>\n",
       "      <td>0.381082</td>\n",
       "      <td>0.582938</td>\n",
       "      <td>0.611192</td>\n",
       "      <td>0.703136</td>\n",
       "      <td>0.574487</td>\n",
       "    </tr>\n",
       "    <tr>\n",
       "      <th>min</th>\n",
       "      <td>0.005957</td>\n",
       "      <td>0.002767</td>\n",
       "      <td>0.002753</td>\n",
       "      <td>0.004079</td>\n",
       "      <td>0.003102</td>\n",
       "      <td>0.003743</td>\n",
       "      <td>0.003223</td>\n",
       "      <td>0.002975</td>\n",
       "      <td>0.003865</td>\n",
       "      <td>0.008264</td>\n",
       "      <td>0.002266</td>\n",
       "    </tr>\n",
       "    <tr>\n",
       "      <th>25%</th>\n",
       "      <td>0.054345</td>\n",
       "      <td>0.123485</td>\n",
       "      <td>0.172347</td>\n",
       "      <td>0.302909</td>\n",
       "      <td>0.572539</td>\n",
       "      <td>0.645520</td>\n",
       "      <td>0.699598</td>\n",
       "      <td>0.855450</td>\n",
       "      <td>0.957718</td>\n",
       "      <td>1.005741</td>\n",
       "      <td>1.138226</td>\n",
       "    </tr>\n",
       "    <tr>\n",
       "      <th>50%</th>\n",
       "      <td>0.057965</td>\n",
       "      <td>0.129995</td>\n",
       "      <td>0.179027</td>\n",
       "      <td>0.319473</td>\n",
       "      <td>0.670833</td>\n",
       "      <td>0.923044</td>\n",
       "      <td>1.198304</td>\n",
       "      <td>1.434318</td>\n",
       "      <td>1.661300</td>\n",
       "      <td>1.808804</td>\n",
       "      <td>1.557183</td>\n",
       "    </tr>\n",
       "    <tr>\n",
       "      <th>75%</th>\n",
       "      <td>0.066957</td>\n",
       "      <td>0.140634</td>\n",
       "      <td>0.194934</td>\n",
       "      <td>0.337792</td>\n",
       "      <td>0.728173</td>\n",
       "      <td>1.024705</td>\n",
       "      <td>1.294397</td>\n",
       "      <td>1.821969</td>\n",
       "      <td>2.048677</td>\n",
       "      <td>2.172769</td>\n",
       "      <td>1.939446</td>\n",
       "    </tr>\n",
       "    <tr>\n",
       "      <th>max</th>\n",
       "      <td>0.114348</td>\n",
       "      <td>0.252896</td>\n",
       "      <td>0.350669</td>\n",
       "      <td>0.648842</td>\n",
       "      <td>1.074313</td>\n",
       "      <td>1.166476</td>\n",
       "      <td>1.356335</td>\n",
       "      <td>2.005320</td>\n",
       "      <td>2.629712</td>\n",
       "      <td>2.537487</td>\n",
       "      <td>2.316876</td>\n",
       "    </tr>\n",
       "  </tbody>\n",
       "</table>\n",
       "</div>"
      ],
      "text/plain": [
       "                100           200           300           500          1000  \\\n",
       "count  10000.000000  10000.000000  10000.000000  10000.000000  10000.000000   \n",
       "mean       0.060595      0.130732      0.178714      0.303443      0.615007   \n",
       "std        0.008648      0.017395      0.026102      0.065380      0.175589   \n",
       "min        0.005957      0.002767      0.002753      0.004079      0.003102   \n",
       "25%        0.054345      0.123485      0.172347      0.302909      0.572539   \n",
       "50%        0.057965      0.129995      0.179027      0.319473      0.670833   \n",
       "75%        0.066957      0.140634      0.194934      0.337792      0.728173   \n",
       "max        0.114348      0.252896      0.350669      0.648842      1.074313   \n",
       "\n",
       "               1500          2000          2500         3000         3500  \\\n",
       "count  10000.000000  10000.000000  10000.000000  9852.000000  9667.000000   \n",
       "mean       0.812973      0.992616      1.267018     1.474396     1.585047   \n",
       "std        0.277645      0.381082      0.582938     0.611192     0.703136   \n",
       "min        0.003743      0.003223      0.002975     0.003865     0.008264   \n",
       "25%        0.645520      0.699598      0.855450     0.957718     1.005741   \n",
       "50%        0.923044      1.198304      1.434318     1.661300     1.808804   \n",
       "75%        1.024705      1.294397      1.821969     2.048677     2.172769   \n",
       "max        1.166476      1.356335      2.005320     2.629712     2.537487   \n",
       "\n",
       "              4000  \n",
       "count  9606.000000  \n",
       "mean      1.438284  \n",
       "std       0.574487  \n",
       "min       0.002266  \n",
       "25%       1.138226  \n",
       "50%       1.557183  \n",
       "75%       1.939446  \n",
       "max       2.316876  "
      ]
     },
     "execution_count": 7,
     "metadata": {},
     "output_type": "execute_result"
    }
   ],
   "source": [
    "# Test another run\n",
    "reqs = pd.read_csv('response_times.csv', index_col='Unnamed: 0')\n",
    "reqs.describe()"
   ]
  },
  {
   "cell_type": "code",
   "execution_count": 18,
   "id": "3db6e01f",
   "metadata": {},
   "outputs": [],
   "source": [
    "host = '128.214.252.11'\n",
    "port = '8501'\n",
    "batch_size = 1\n",
    "image_path = \"./mnist_image.pkl\"\n",
    "model_name = 'mnist'\n",
    "signature_name = 'predict_images'\n"
   ]
  },
  {
   "cell_type": "code",
   "execution_count": 7,
   "id": "084a84a3",
   "metadata": {},
   "outputs": [],
   "source": [
    "work_dir='/tmp'"
   ]
  },
  {
   "cell_type": "code",
   "execution_count": 8,
   "id": "be277167",
   "metadata": {},
   "outputs": [
    {
     "name": "stdout",
     "output_type": "stream",
     "text": [
      "Extracting /tmp/train-images-idx3-ubyte.gz\n",
      "Extracting /tmp/train-labels-idx1-ubyte.gz\n",
      "Extracting /tmp/t10k-images-idx3-ubyte.gz\n",
      "Extracting /tmp/t10k-labels-idx1-ubyte.gz\n"
     ]
    }
   ],
   "source": [
    "test_data_set = mnist_input_data.read_data_sets(work_dir).test"
   ]
  },
  {
   "cell_type": "code",
   "execution_count": 9,
   "id": "00e70bec",
   "metadata": {},
   "outputs": [
    {
     "data": {
      "text/plain": [
       "(1, 784)"
      ]
     },
     "execution_count": 9,
     "metadata": {},
     "output_type": "execute_result"
    }
   ],
   "source": [
    "img, label = test_data_set.next_batch(1)\n",
    "img.shape"
   ]
  },
  {
   "cell_type": "code",
   "execution_count": 10,
   "id": "173cdc4e",
   "metadata": {},
   "outputs": [],
   "source": [
    "# Fetch some images for inference\n",
    "\n",
    "batch_size = 1\n",
    "batch = np.repeat(img, batch_size, axis=0).tolist()"
   ]
  },
  {
   "cell_type": "code",
   "execution_count": 19,
   "id": "3e313ff5",
   "metadata": {},
   "outputs": [],
   "source": [
    "# When creating the json object, the signature name field is important otherwise the request does not succeed\n",
    "\n",
    "json_data = {\n",
    "    \"signature_name\": 'predict_images',\n",
    "    \"instances\": batch\n",
    "}"
   ]
  },
  {
   "cell_type": "code",
   "execution_count": 24,
   "id": "ee0ac40a",
   "metadata": {
    "scrolled": false
   },
   "outputs": [
    {
     "name": "stdout",
     "output_type": "stream",
     "text": [
      "200\n",
      "{'predictions': [[2.04608477e-05, 1.72721548e-09, 7.74099099e-05, 0.00364778261, 1.25222937e-06, 2.27522032e-05, 1.14668977e-08, 0.99597472, 3.68833389e-05, 0.000218785644]]}\n"
     ]
    },
    {
     "data": {
      "text/plain": [
       "7"
      ]
     },
     "execution_count": 24,
     "metadata": {},
     "output_type": "execute_result"
    }
   ],
   "source": [
    "# Works when tested with local host but something seems to block the use of IP address\n",
    "response_prediction = requests.post('http://128.214.252.11:8501/v1/models/mnist:predict', json=json_data)\n",
    "print(response_prediction.status_code)\n",
    "print(response_prediction.json())\n",
    "# Predict returns the probabilities of the classes 0-9, so we need to pick the highest probability\n",
    "np.argmax(response_prediction.json()['predictions'][0])"
   ]
  },
  {
   "cell_type": "code",
   "execution_count": 22,
   "id": "ece275db",
   "metadata": {},
   "outputs": [
    {
     "data": {
      "text/plain": [
       "{'predictions': [[2.04608477e-05,\n",
       "   1.72721548e-09,\n",
       "   7.74099099e-05,\n",
       "   0.00364778261,\n",
       "   1.25222937e-06,\n",
       "   2.27522032e-05,\n",
       "   1.14668977e-08,\n",
       "   0.99597472,\n",
       "   3.68833389e-05,\n",
       "   0.000218785644]]}"
      ]
     },
     "execution_count": 22,
     "metadata": {},
     "output_type": "execute_result"
    }
   ],
   "source": [
    "response_prediction."
   ]
  },
  {
   "cell_type": "code",
   "execution_count": null,
   "id": "f61ad525",
   "metadata": {},
   "outputs": [],
   "source": [
    "reqs_grprc = pd.read_csv('resp_10.csv', index_col='Unnamed: 0')"
   ]
  },
  {
   "cell_type": "code",
   "execution_count": 9,
   "id": "df363e9d",
   "metadata": {},
   "outputs": [
    {
     "data": {
      "text/plain": [
       "0     0.003486\n",
       "1     0.005763\n",
       "2     0.006556\n",
       "3     0.011348\n",
       "4     0.008767\n",
       "        ...   \n",
       "95    0.017756\n",
       "96    0.017404\n",
       "97    0.017190\n",
       "98    0.017041\n",
       "99    0.016797\n",
       "Length: 100, dtype: float64"
      ]
     },
     "execution_count": 9,
     "metadata": {},
     "output_type": "execute_result"
    }
   ],
   "source": [
    "pd.Series(np.load('resp_100.npy'))"
   ]
  },
  {
   "cell_type": "code",
   "execution_count": 23,
   "id": "732fbe92",
   "metadata": {},
   "outputs": [
    {
     "data": {
      "text/plain": [
       "Text(0.5, 1.0, 'REST')"
      ]
     },
     "execution_count": 23,
     "metadata": {},
     "output_type": "execute_result"
    },
    {
     "data": {
      "image/png": "[encoded data removed]",
      "text/plain": [
       "<Figure size 1080x360 with 2 Axes>"
      ]
     },
     "metadata": {
      "needs_background": "light"
     },
     "output_type": "display_data"
    }
   ],
   "source": [
    "fig, ax = plt.subplots(1, 2, figsize=(15,5))\n",
    "_ = sns.histplot(data=pd.Series(np.load('resp_1000.npy')), kde=True, ax=ax[0])\n",
    "ax[0].set_title(\"gRPC\")\n",
    "_ = sns.histplot(data=pd.Series(np.load('/home/ubuntu/infer/client_rest/data/resp_1000.npy')), kde=True, ax=ax[1])\n",
    "ax[1].set_title(\"REST\")\n"
   ]
  },
  {
   "cell_type": "code",
   "execution_count": 24,
   "id": "6301ad63",
   "metadata": {},
   "outputs": [
    {
     "data": {
      "text/plain": [
       "Text(0.5, 1.0, 'REST')"
      ]
     },
     "execution_count": 24,
     "metadata": {},
     "output_type": "execute_result"
    },
    {
     "data": {
      "image/png": "[encoded data removed]",
      "text/plain": [
       "<Figure size 1080x360 with 2 Axes>"
      ]
     },
     "metadata": {
      "needs_background": "light"
     },
     "output_type": "display_data"
    }
   ],
   "source": [
    "fig, ax = plt.subplots(1, 2, figsize=(15,5))\n",
    "_ = sns.histplot(data=pd.Series(np.load('resp_2000.npy')), kde=True, ax=ax[0])\n",
    "ax[0].set_title(\"gRPC\")\n",
    "_ = sns.histplot(data=pd.Series(np.load('/home/ubuntu/infer/client_rest/data/resp_2000.npy')), kde=True, ax=ax[1])\n",
    "ax[1].set_title(\"REST\")\n"
   ]
  },
  {
   "cell_type": "code",
   "execution_count": 25,
   "id": "8422894f",
   "metadata": {},
   "outputs": [
    {
     "data": {
      "text/plain": [
       "Text(0.5, 1.0, 'REST')"
      ]
     },
     "execution_count": 25,
     "metadata": {},
     "output_type": "execute_result"
    },
    {
     "data": {
      "image/png": "[encoded data removed]",
      "text/plain": [
       "<Figure size 1080x360 with 2 Axes>"
      ]
     },
     "metadata": {
      "needs_background": "light"
     },
     "output_type": "display_data"
    }
   ],
   "source": [
    "fig, ax = plt.subplots(1, 2, figsize=(15,5))\n",
    "_ = sns.histplot(data=pd.Series(np.load('resp_2000.npy')), kde=True, ax=ax[0])\n",
    "ax[0].set_title(\"gRPC\")\n",
    "_ = sns.histplot(data=pd.Series(np.load('/home/ubuntu/infer/client_rest/data/resp_2000.npy')), kde=True, ax=ax[1])\n",
    "ax[1].set_title(\"REST\")\n"
   ]
  },
  {
   "cell_type": "code",
   "execution_count": 27,
   "id": "7a6fa385",
   "metadata": {},
   "outputs": [
    {
     "data": {
      "text/plain": [
       "count    2000.000000\n",
       "mean        0.970677\n",
       "std         0.034822\n",
       "min         0.914687\n",
       "25%         0.943220\n",
       "50%         0.957549\n",
       "75%         1.019857\n",
       "max         1.032442\n",
       "dtype: float64"
      ]
     },
     "execution_count": 27,
     "metadata": {},
     "output_type": "execute_result"
    }
   ],
   "source": [
    "pd.Series(np.load('/home/ubuntu/infer/client_rest/data/resp_2000.npy')).describe()"
   ]
  },
  {
   "cell_type": "code",
   "execution_count": 28,
   "id": "3a0899cc",
   "metadata": {},
   "outputs": [
    {
     "data": {
      "text/plain": [
       "count    1000.000000\n",
       "mean        0.469395\n",
       "std         0.055099\n",
       "min         0.367679\n",
       "25%         0.400999\n",
       "50%         0.492531\n",
       "75%         0.510324\n",
       "max         0.533403\n",
       "dtype: float64"
      ]
     },
     "execution_count": 28,
     "metadata": {},
     "output_type": "execute_result"
    }
   ],
   "source": [
    "pd.Series(np.load('/home/ubuntu/infer/client_rest/data/resp_1000.npy')).describe()"
   ]
  },
  {
   "cell_type": "code",
   "execution_count": 29,
   "id": "0eda3651",
   "metadata": {},
   "outputs": [
    {
     "data": {
      "text/plain": [
       "Text(0.5, 1.0, 'REST')"
      ]
     },
     "execution_count": 29,
     "metadata": {},
     "output_type": "execute_result"
    },
    {
     "data": {
      "image/png": "[encoded data removed]",
      "text/plain": [
       "<Figure size 1080x360 with 2 Axes>"
      ]
     },
     "metadata": {
      "needs_background": "light"
     },
     "output_type": "display_data"
    }
   ],
   "source": [
    "fig, ax = plt.subplots(1, 2, figsize=(15,5))\n",
    "_ = sns.histplot(data=pd.Series(np.load('resp_3000.npy')), kde=True, ax=ax[0])\n",
    "ax[0].set_title(\"gRPC\")\n",
    "_ = sns.histplot(data=pd.Series(np.load('/home/ubuntu/infer/client_rest/data/resp_3000.npy')), kde=True, ax=ax[1])\n",
    "ax[1].set_title(\"REST\")\n"
   ]
  },
  {
   "cell_type": "code",
   "execution_count": 34,
   "id": "9928bc3f",
   "metadata": {},
   "outputs": [],
   "source": [
    "grpc_2k = pd.Series(np.load('/home/ubuntu/infer/client_grpc/data/resp_2000.npy'))\n",
    "rest_2k = pd.Series(np.load('/home/ubuntu/infer/client_rest/data/resp_2000.npy'))"
   ]
  },
  {
   "cell_type": "code",
   "execution_count": 35,
   "id": "b050c418",
   "metadata": {},
   "outputs": [
    {
     "data": {
      "text/html": [
       "<div>\n",
       "<style scoped>\n",
       "    .dataframe tbody tr th:only-of-type {\n",
       "        vertical-align: middle;\n",
       "    }\n",
       "\n",
       "    .dataframe tbody tr th {\n",
       "        vertical-align: top;\n",
       "    }\n",
       "\n",
       "    .dataframe thead th {\n",
       "        text-align: right;\n",
       "    }\n",
       "</style>\n",
       "<table border=\"1\" class=\"dataframe\">\n",
       "  <thead>\n",
       "    <tr style=\"text-align: right;\">\n",
       "      <th></th>\n",
       "      <th>grpc</th>\n",
       "      <th>rest</th>\n",
       "    </tr>\n",
       "  </thead>\n",
       "  <tbody>\n",
       "    <tr>\n",
       "      <th>count</th>\n",
       "      <td>2000.000000</td>\n",
       "      <td>2000.000000</td>\n",
       "    </tr>\n",
       "    <tr>\n",
       "      <th>mean</th>\n",
       "      <td>0.232253</td>\n",
       "      <td>0.970677</td>\n",
       "    </tr>\n",
       "    <tr>\n",
       "      <th>std</th>\n",
       "      <td>0.100517</td>\n",
       "      <td>0.034822</td>\n",
       "    </tr>\n",
       "    <tr>\n",
       "      <th>min</th>\n",
       "      <td>0.004227</td>\n",
       "      <td>0.914687</td>\n",
       "    </tr>\n",
       "    <tr>\n",
       "      <th>25%</th>\n",
       "      <td>0.169976</td>\n",
       "      <td>0.943220</td>\n",
       "    </tr>\n",
       "    <tr>\n",
       "      <th>50%</th>\n",
       "      <td>0.244533</td>\n",
       "      <td>0.957549</td>\n",
       "    </tr>\n",
       "    <tr>\n",
       "      <th>75%</th>\n",
       "      <td>0.311939</td>\n",
       "      <td>1.019857</td>\n",
       "    </tr>\n",
       "    <tr>\n",
       "      <th>max</th>\n",
       "      <td>0.392808</td>\n",
       "      <td>1.032442</td>\n",
       "    </tr>\n",
       "  </tbody>\n",
       "</table>\n",
       "</div>"
      ],
      "text/plain": [
       "              grpc         rest\n",
       "count  2000.000000  2000.000000\n",
       "mean      0.232253     0.970677\n",
       "std       0.100517     0.034822\n",
       "min       0.004227     0.914687\n",
       "25%       0.169976     0.943220\n",
       "50%       0.244533     0.957549\n",
       "75%       0.311939     1.019857\n",
       "max       0.392808     1.032442"
      ]
     },
     "execution_count": 35,
     "metadata": {},
     "output_type": "execute_result"
    }
   ],
   "source": [
    "pd.DataFrame({'grpc': grpc_2k, 'rest': rest_2k}).describe()"
   ]
  },
  {
   "cell_type": "markdown",
   "id": "e3d9a079",
   "metadata": {},
   "source": [
    "# Notes\n",
    "Testing benchmarking tools REST and gRPC\n",
    "Apache bench (tool) Performance testing tool\n",
    "\n",
    "## Open issues:\n",
    "- Performance at low level layers\n",
    "- 3KB size of inference\n",
    "- traffic patterns?\n",
    "- Bottlenecks in the system (CPU bound or IO bound)\n",
    "- Is caching being used in the server ?\n",
    "- Any effect of Schema ?\n",
    "\n",
    "Next task meeting in 24th January 2022\n",
    "Next WP deadline March 2022\n"
   ]
  },
  {
   "cell_type": "markdown",
   "id": "bb6a173f",
   "metadata": {},
   "source": [
    "### Comparing requests from VM and Container"
   ]
  },
  {
   "cell_type": "code",
   "execution_count": 3,
   "id": "b75a060c",
   "metadata": {},
   "outputs": [],
   "source": [
    "reqs_vm = pd.read_csv('response_times_vm.csv', index_col='Unnamed: 0')\n",
    "reqs_container = pd.read_csv('response_times_container.csv', index_col='Unnamed: 0')"
   ]
  },
  {
   "cell_type": "code",
   "execution_count": 4,
   "id": "76cab8d6",
   "metadata": {},
   "outputs": [
    {
     "data": {
      "text/html": [
       "<div>\n",
       "<style scoped>\n",
       "    .dataframe tbody tr th:only-of-type {\n",
       "        vertical-align: middle;\n",
       "    }\n",
       "\n",
       "    .dataframe tbody tr th {\n",
       "        vertical-align: top;\n",
       "    }\n",
       "\n",
       "    .dataframe thead th {\n",
       "        text-align: right;\n",
       "    }\n",
       "</style>\n",
       "<table border=\"1\" class=\"dataframe\">\n",
       "  <thead>\n",
       "    <tr style=\"text-align: right;\">\n",
       "      <th></th>\n",
       "      <th>100</th>\n",
       "      <th>200</th>\n",
       "      <th>300</th>\n",
       "      <th>500</th>\n",
       "      <th>1000</th>\n",
       "      <th>1500</th>\n",
       "      <th>2000</th>\n",
       "      <th>2500</th>\n",
       "      <th>3000</th>\n",
       "      <th>3500</th>\n",
       "      <th>4000</th>\n",
       "    </tr>\n",
       "  </thead>\n",
       "  <tbody>\n",
       "    <tr>\n",
       "      <th>count</th>\n",
       "      <td>10000.000000</td>\n",
       "      <td>10000.000000</td>\n",
       "      <td>10000.000000</td>\n",
       "      <td>10000.000000</td>\n",
       "      <td>10000.000000</td>\n",
       "      <td>9914.000000</td>\n",
       "      <td>10000.000000</td>\n",
       "      <td>9898.000000</td>\n",
       "      <td>9851.000000</td>\n",
       "      <td>10000.000000</td>\n",
       "      <td>9841.000000</td>\n",
       "    </tr>\n",
       "    <tr>\n",
       "      <th>mean</th>\n",
       "      <td>0.050657</td>\n",
       "      <td>0.113574</td>\n",
       "      <td>0.164483</td>\n",
       "      <td>0.271756</td>\n",
       "      <td>0.493999</td>\n",
       "      <td>0.672205</td>\n",
       "      <td>0.791852</td>\n",
       "      <td>1.144912</td>\n",
       "      <td>1.266589</td>\n",
       "      <td>0.869787</td>\n",
       "      <td>1.286618</td>\n",
       "    </tr>\n",
       "    <tr>\n",
       "      <th>std</th>\n",
       "      <td>0.008376</td>\n",
       "      <td>0.016420</td>\n",
       "      <td>0.024595</td>\n",
       "      <td>0.045898</td>\n",
       "      <td>0.142086</td>\n",
       "      <td>0.235366</td>\n",
       "      <td>0.348033</td>\n",
       "      <td>0.454171</td>\n",
       "      <td>0.447796</td>\n",
       "      <td>0.463830</td>\n",
       "      <td>0.575237</td>\n",
       "    </tr>\n",
       "    <tr>\n",
       "      <th>min</th>\n",
       "      <td>0.004903</td>\n",
       "      <td>0.003374</td>\n",
       "      <td>0.003076</td>\n",
       "      <td>0.002903</td>\n",
       "      <td>0.002727</td>\n",
       "      <td>0.002625</td>\n",
       "      <td>0.003910</td>\n",
       "      <td>0.002627</td>\n",
       "      <td>0.002553</td>\n",
       "      <td>0.003187</td>\n",
       "      <td>0.002517</td>\n",
       "    </tr>\n",
       "    <tr>\n",
       "      <th>25%</th>\n",
       "      <td>0.044607</td>\n",
       "      <td>0.108635</td>\n",
       "      <td>0.158656</td>\n",
       "      <td>0.265170</td>\n",
       "      <td>0.467888</td>\n",
       "      <td>0.521067</td>\n",
       "      <td>0.467135</td>\n",
       "      <td>0.783591</td>\n",
       "      <td>0.938036</td>\n",
       "      <td>0.506591</td>\n",
       "      <td>0.883076</td>\n",
       "    </tr>\n",
       "    <tr>\n",
       "      <th>50%</th>\n",
       "      <td>0.050391</td>\n",
       "      <td>0.115082</td>\n",
       "      <td>0.165070</td>\n",
       "      <td>0.283052</td>\n",
       "      <td>0.557171</td>\n",
       "      <td>0.738723</td>\n",
       "      <td>0.947111</td>\n",
       "      <td>1.363870</td>\n",
       "      <td>1.504087</td>\n",
       "      <td>0.846180</td>\n",
       "      <td>1.418692</td>\n",
       "    </tr>\n",
       "    <tr>\n",
       "      <th>75%</th>\n",
       "      <td>0.056857</td>\n",
       "      <td>0.121674</td>\n",
       "      <td>0.173279</td>\n",
       "      <td>0.293477</td>\n",
       "      <td>0.579724</td>\n",
       "      <td>0.854606</td>\n",
       "      <td>1.089451</td>\n",
       "      <td>1.490838</td>\n",
       "      <td>1.563638</td>\n",
       "      <td>1.281002</td>\n",
       "      <td>1.767168</td>\n",
       "    </tr>\n",
       "    <tr>\n",
       "      <th>max</th>\n",
       "      <td>0.114987</td>\n",
       "      <td>0.245658</td>\n",
       "      <td>0.322006</td>\n",
       "      <td>0.564554</td>\n",
       "      <td>1.032681</td>\n",
       "      <td>1.018182</td>\n",
       "      <td>1.465100</td>\n",
       "      <td>2.098819</td>\n",
       "      <td>1.985160</td>\n",
       "      <td>1.734974</td>\n",
       "      <td>2.185071</td>\n",
       "    </tr>\n",
       "  </tbody>\n",
       "</table>\n",
       "</div>"
      ],
      "text/plain": [
       "                100           200           300           500          1000  \\\n",
       "count  10000.000000  10000.000000  10000.000000  10000.000000  10000.000000   \n",
       "mean       0.050657      0.113574      0.164483      0.271756      0.493999   \n",
       "std        0.008376      0.016420      0.024595      0.045898      0.142086   \n",
       "min        0.004903      0.003374      0.003076      0.002903      0.002727   \n",
       "25%        0.044607      0.108635      0.158656      0.265170      0.467888   \n",
       "50%        0.050391      0.115082      0.165070      0.283052      0.557171   \n",
       "75%        0.056857      0.121674      0.173279      0.293477      0.579724   \n",
       "max        0.114987      0.245658      0.322006      0.564554      1.032681   \n",
       "\n",
       "              1500          2000         2500         3000          3500  \\\n",
       "count  9914.000000  10000.000000  9898.000000  9851.000000  10000.000000   \n",
       "mean      0.672205      0.791852     1.144912     1.266589      0.869787   \n",
       "std       0.235366      0.348033     0.454171     0.447796      0.463830   \n",
       "min       0.002625      0.003910     0.002627     0.002553      0.003187   \n",
       "25%       0.521067      0.467135     0.783591     0.938036      0.506591   \n",
       "50%       0.738723      0.947111     1.363870     1.504087      0.846180   \n",
       "75%       0.854606      1.089451     1.490838     1.563638      1.281002   \n",
       "max       1.018182      1.465100     2.098819     1.985160      1.734974   \n",
       "\n",
       "              4000  \n",
       "count  9841.000000  \n",
       "mean      1.286618  \n",
       "std       0.575237  \n",
       "min       0.002517  \n",
       "25%       0.883076  \n",
       "50%       1.418692  \n",
       "75%       1.767168  \n",
       "max       2.185071  "
      ]
     },
     "execution_count": 4,
     "metadata": {},
     "output_type": "execute_result"
    }
   ],
   "source": [
    "reqs_vm.describe()"
   ]
  },
  {
   "cell_type": "code",
   "execution_count": 5,
   "id": "500287c0",
   "metadata": {},
   "outputs": [
    {
     "data": {
      "text/html": [
       "<div>\n",
       "<style scoped>\n",
       "    .dataframe tbody tr th:only-of-type {\n",
       "        vertical-align: middle;\n",
       "    }\n",
       "\n",
       "    .dataframe tbody tr th {\n",
       "        vertical-align: top;\n",
       "    }\n",
       "\n",
       "    .dataframe thead th {\n",
       "        text-align: right;\n",
       "    }\n",
       "</style>\n",
       "<table border=\"1\" class=\"dataframe\">\n",
       "  <thead>\n",
       "    <tr style=\"text-align: right;\">\n",
       "      <th></th>\n",
       "      <th>100</th>\n",
       "      <th>200</th>\n",
       "      <th>300</th>\n",
       "      <th>500</th>\n",
       "      <th>1000</th>\n",
       "      <th>1500</th>\n",
       "      <th>2000</th>\n",
       "      <th>2500</th>\n",
       "      <th>3000</th>\n",
       "      <th>3500</th>\n",
       "      <th>4000</th>\n",
       "    </tr>\n",
       "  </thead>\n",
       "  <tbody>\n",
       "    <tr>\n",
       "      <th>count</th>\n",
       "      <td>10000.000000</td>\n",
       "      <td>10000.000000</td>\n",
       "      <td>10000.000000</td>\n",
       "      <td>10000.000000</td>\n",
       "      <td>9998.000000</td>\n",
       "      <td>10000.000000</td>\n",
       "      <td>10000.000000</td>\n",
       "      <td>10000.000000</td>\n",
       "      <td>8904.000000</td>\n",
       "      <td>10000.000000</td>\n",
       "      <td>10000.000000</td>\n",
       "    </tr>\n",
       "    <tr>\n",
       "      <th>mean</th>\n",
       "      <td>0.064022</td>\n",
       "      <td>0.118411</td>\n",
       "      <td>0.198250</td>\n",
       "      <td>0.315451</td>\n",
       "      <td>0.570490</td>\n",
       "      <td>0.785199</td>\n",
       "      <td>1.019847</td>\n",
       "      <td>1.234756</td>\n",
       "      <td>1.298434</td>\n",
       "      <td>1.399309</td>\n",
       "      <td>1.381068</td>\n",
       "    </tr>\n",
       "    <tr>\n",
       "      <th>std</th>\n",
       "      <td>0.007913</td>\n",
       "      <td>0.017237</td>\n",
       "      <td>0.030484</td>\n",
       "      <td>0.054627</td>\n",
       "      <td>0.167761</td>\n",
       "      <td>0.292919</td>\n",
       "      <td>0.381808</td>\n",
       "      <td>0.515102</td>\n",
       "      <td>0.611921</td>\n",
       "      <td>0.659836</td>\n",
       "      <td>0.625625</td>\n",
       "    </tr>\n",
       "    <tr>\n",
       "      <th>min</th>\n",
       "      <td>0.006113</td>\n",
       "      <td>0.002290</td>\n",
       "      <td>0.002509</td>\n",
       "      <td>0.002615</td>\n",
       "      <td>0.003218</td>\n",
       "      <td>0.003457</td>\n",
       "      <td>0.002414</td>\n",
       "      <td>0.003169</td>\n",
       "      <td>0.002396</td>\n",
       "      <td>0.002830</td>\n",
       "      <td>0.003443</td>\n",
       "    </tr>\n",
       "    <tr>\n",
       "      <th>25%</th>\n",
       "      <td>0.059666</td>\n",
       "      <td>0.108340</td>\n",
       "      <td>0.188942</td>\n",
       "      <td>0.312152</td>\n",
       "      <td>0.525887</td>\n",
       "      <td>0.636892</td>\n",
       "      <td>0.843223</td>\n",
       "      <td>0.817839</td>\n",
       "      <td>0.771035</td>\n",
       "      <td>0.903751</td>\n",
       "      <td>0.953389</td>\n",
       "    </tr>\n",
       "    <tr>\n",
       "      <th>50%</th>\n",
       "      <td>0.064251</td>\n",
       "      <td>0.119156</td>\n",
       "      <td>0.205008</td>\n",
       "      <td>0.329451</td>\n",
       "      <td>0.605099</td>\n",
       "      <td>0.899020</td>\n",
       "      <td>1.179867</td>\n",
       "      <td>1.488701</td>\n",
       "      <td>1.279720</td>\n",
       "      <td>1.574955</td>\n",
       "      <td>1.459003</td>\n",
       "    </tr>\n",
       "    <tr>\n",
       "      <th>75%</th>\n",
       "      <td>0.068027</td>\n",
       "      <td>0.128610</td>\n",
       "      <td>0.213508</td>\n",
       "      <td>0.342176</td>\n",
       "      <td>0.704655</td>\n",
       "      <td>1.036592</td>\n",
       "      <td>1.300866</td>\n",
       "      <td>1.684568</td>\n",
       "      <td>1.917972</td>\n",
       "      <td>1.981447</td>\n",
       "      <td>1.967300</td>\n",
       "    </tr>\n",
       "    <tr>\n",
       "      <th>max</th>\n",
       "      <td>0.141941</td>\n",
       "      <td>0.224425</td>\n",
       "      <td>0.423143</td>\n",
       "      <td>0.679344</td>\n",
       "      <td>1.130197</td>\n",
       "      <td>1.087820</td>\n",
       "      <td>1.846998</td>\n",
       "      <td>1.911393</td>\n",
       "      <td>2.569409</td>\n",
       "      <td>2.610493</td>\n",
       "      <td>2.282029</td>\n",
       "    </tr>\n",
       "  </tbody>\n",
       "</table>\n",
       "</div>"
      ],
      "text/plain": [
       "                100           200           300           500         1000  \\\n",
       "count  10000.000000  10000.000000  10000.000000  10000.000000  9998.000000   \n",
       "mean       0.064022      0.118411      0.198250      0.315451     0.570490   \n",
       "std        0.007913      0.017237      0.030484      0.054627     0.167761   \n",
       "min        0.006113      0.002290      0.002509      0.002615     0.003218   \n",
       "25%        0.059666      0.108340      0.188942      0.312152     0.525887   \n",
       "50%        0.064251      0.119156      0.205008      0.329451     0.605099   \n",
       "75%        0.068027      0.128610      0.213508      0.342176     0.704655   \n",
       "max        0.141941      0.224425      0.423143      0.679344     1.130197   \n",
       "\n",
       "               1500          2000          2500         3000          3500  \\\n",
       "count  10000.000000  10000.000000  10000.000000  8904.000000  10000.000000   \n",
       "mean       0.785199      1.019847      1.234756     1.298434      1.399309   \n",
       "std        0.292919      0.381808      0.515102     0.611921      0.659836   \n",
       "min        0.003457      0.002414      0.003169     0.002396      0.002830   \n",
       "25%        0.636892      0.843223      0.817839     0.771035      0.903751   \n",
       "50%        0.899020      1.179867      1.488701     1.279720      1.574955   \n",
       "75%        1.036592      1.300866      1.684568     1.917972      1.981447   \n",
       "max        1.087820      1.846998      1.911393     2.569409      2.610493   \n",
       "\n",
       "               4000  \n",
       "count  10000.000000  \n",
       "mean       1.381068  \n",
       "std        0.625625  \n",
       "min        0.003443  \n",
       "25%        0.953389  \n",
       "50%        1.459003  \n",
       "75%        1.967300  \n",
       "max        2.282029  "
      ]
     },
     "execution_count": 5,
     "metadata": {},
     "output_type": "execute_result"
    }
   ],
   "source": [
    "reqs_container.describe()"
   ]
  },
  {
   "cell_type": "code",
   "execution_count": 23,
   "id": "72fee54f",
   "metadata": {},
   "outputs": [
    {
     "data": {
      "image/png": "[encoded data removed]",
      "text/plain": [
       "<Figure size 1080x360 with 2 Axes>"
      ]
     },
     "metadata": {
      "needs_background": "light"
     },
     "output_type": "display_data"
    }
   ],
   "source": [
    "fig, ax = plt.subplots(1, 2, figsize=(15,5))\n",
    "_ = sns.histplot(data={'vm':reqs_vm['500'], 'cont':reqs_container['500']}, kde=True, ax=ax[0], color='orange', label='vm')\n",
    "_ = sns.histplot(data={'vm':reqs_vm['3000'], 'cont':reqs_container['3000']}, kde=True, ax=ax[1], color='orange', label='vm')\n",
    "_ = ax[0].set_xlabel('time (s)')\n",
    "_ = ax[1].set_xlabel('time (s)')\n",
    "\n",
    "# Using a container inside the VM creates some extra latency"
   ]
  },
  {
   "cell_type": "code",
   "execution_count": null,
   "id": "bcd082d2",
   "metadata": {},
   "outputs": [],
   "source": []
  }
 ],
 "metadata": {
  "kernelspec": {
   "display_name": "Python 3",
   "language": "python",
   "name": "python3"
  },
  "language_info": {
   "codemirror_mode": {
    "name": "ipython",
    "version": 3
   },
   "file_extension": ".py",
   "mimetype": "text/x-python",
   "name": "python",
   "nbconvert_exporter": "python",
   "pygments_lexer": "ipython3",
   "version": "3.8.10"
  }
 },
 "nbformat": 4,
 "nbformat_minor": 5
}
